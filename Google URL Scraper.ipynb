{
 "cells": [
  {
   "cell_type": "markdown",
   "metadata": {},
   "source": [
    "## Google URL Scraper\n",
    "This is a script designed to automate the extraction of Google Maps URLs for BMO, TD, RBC, CIBC, and Scotiabank listings in Calgary. It was used in a group project to obtain the coordinates of these businesses for Geo-Spatial Analysis, which can be found in the final report of our 'Analysis of the Canadian Banking Industry' at https://www.lukes-lab.com/."
   ]
  },
  {
   "cell_type": "code",
   "execution_count": 1,
   "metadata": {},
   "outputs": [],
   "source": [
    "from selenium import webdriver\n",
    "import time\n",
    "from selenium.webdriver.common.by import By\n",
    "from bs4 import BeautifulSoup\n",
    "import pandas as pd \n",
    "from selenium.webdriver.support.ui import WebDriverWait\n",
    "from selenium.webdriver.support import expected_conditions as EC\n",
    "from selenium.webdriver.common.by import By\n",
    "from selenium.webdriver.common.keys import Keys\n",
    "import math as math\n",
    "from selenium.common.exceptions import NoSuchElementException\n",
    "from selenium.webdriver import ActionChains\n",
    "import pyautogui\n",
    "import pandas as pd"
   ]
  },
  {
   "cell_type": "code",
   "execution_count": 7,
   "metadata": {},
   "outputs": [],
   "source": [
    "driver = webdriver.Firefox()\n",
    "\n",
    "def url_scraper(bank_query):\n",
    "        url = \"https://www.google.com/maps/@51.0803529,-114.140266,13z?entry=ttu\"\n",
    "        driver.get(url)\n",
    "        time.sleep(3)\n",
    "\n",
    "        search_bar = driver.find_element(By.XPATH, '//*[@id=\"searchboxinput\"]')\n",
    "        search_bar.click()\n",
    "        time.sleep(3)\n",
    "\n",
    "\n",
    "        search_bar.send_keys(bank_query)\n",
    "        search_bar.send_keys(Keys.RETURN)\n",
    "\n",
    "        wait = WebDriverWait(driver, 20)  # Wait for up to 20 seconds\n",
    "        scroll_container = wait.until(EC.presence_of_element_located((By.CSS_SELECTOR, '.m6QErb.DxyBCb.kA9KIf.dS8AEf.ecceSd')))\n",
    "\n",
    "\n",
    "        # Get count of current locations in the list\n",
    "        current_count = len(scroll_container.find_elements(By.CSS_SELECTOR, '.hfpxzc'))\n",
    "        print(current_count)\n",
    "\n",
    "        actions = ActionChains(driver)\n",
    "\n",
    "        while True:\n",
    "            actions.move_to_element(scroll_container).click().send_keys(Keys.PAGE_DOWN).perform()\n",
    "            time.sleep(1)\n",
    "            pyautogui.press('f12')\n",
    "            time.sleep(1)\n",
    "            pyautogui.press('f12')\n",
    "            try:\n",
    "                end_of_page = driver.find_element(By.CSS_SELECTOR,\".HlvSq\")\n",
    "                if \"You've reached the end of the list.\" in end_of_page.text:\n",
    "                    break\n",
    "            except NoSuchElementException:\n",
    "                pass\n",
    "\n",
    "        response = BeautifulSoup(driver.page_source, 'html.parser')\n",
    "        links = response.find_all('a', class_='hfpxzc')\n",
    "\n",
    "        bank_links = []\n",
    "        for link in links:\n",
    "            link = link.get('href')\n",
    "            bank_links.append(link)\n",
    "\n",
    "        return bank_links"
   ]
  },
  {
   "cell_type": "code",
   "execution_count": null,
   "metadata": {},
   "outputs": [],
   "source": [
    "bmo = url_scraper(\"BMO\")\n",
    "td = url_scraper(\"TD\")\n",
    "scotiabank = url_scraper(\"scotiabank\")\n",
    "rbc = url_scraper(\"RBC\")\n",
    "cibc = url_scraper(\"CIBC\")"
   ]
  },
  {
   "cell_type": "code",
   "execution_count": null,
   "metadata": {},
   "outputs": [],
   "source": [
    "# Concatenate the lists with an additional column for the bank names\n",
    "\n",
    "order = ['bmo','cibc', 'rbc', 'scotiabank','td']\n",
    "df = pd.DataFrame({\n",
    "    'url': bmo + cibc + rbc + scotiabank + td,\n",
    "    'bank': ['bmo']*len(bmo) + ['scotiabank']*len(scotiabank) + ['rbc']*len(rbc) + ['cibc']*len(cibc) + ['td']*len(td)\n",
    "})\n",
    "\n",
    "# Convert the bank name column to a categorical type with a defined order\n",
    "df['bank'] = pd.Categorical(df['bank'], categories=order, ordered=True)\n",
    "\n",
    "# Sort by the bank name\n",
    "df_sorted = df.sort_values(by='bank').reset_index(drop=True)\n",
    "\n",
    "print(df_sorted)"
   ]
  },
  {
   "cell_type": "code",
   "execution_count": null,
   "metadata": {},
   "outputs": [],
   "source": [
    "with pd.option_context('display.max_rows', None,\n",
    "                       'display.max_columns', None,\n",
    "                       'display.max_colwidth', 1000,  # or use a large number like 1000\n",
    "                       'display.width', 1000  # adjust as per your needs\n",
    "                       ):\n",
    "    print(df_sorted)"
   ]
  },
  {
   "cell_type": "code",
   "execution_count": null,
   "metadata": {},
   "outputs": [],
   "source": [
    "# I want to add a category field \n",
    "# branch, atm, wealth, branch_advisor, mortgage specialist\n",
    "import re\n",
    "\n",
    "# Extract name/description, latitude, and longitude\n",
    "df_sorted['name'] = df_sorted['url'].apply(lambda x: re.search(r'place/([^/]+)', x).group(1).replace('+', ' ') if re.search(r'place/([^/]+)', x) else None)\n",
    "df_sorted['latitude'] = df_sorted['url'].apply(lambda x: re.search(r'!3d([\\d\\.-]+)', x).group(1) if re.search(r'!3d([\\d\\.-]+)', x) else None)\n",
    "df_sorted['longitude'] = df_sorted['url'].apply(lambda x: re.search(r'!4d([\\d\\.-]+)', x).group(1) if re.search(r'!4d([\\d\\.-]+)', x) else None)\n",
    "\n",
    "# Categorize rows containing 'bank' or 'branch' as 'branch'\n",
    "df_sorted.loc[df_sorted['name'].str.contains('bank|branch|Advice', case=False, na=False), 'name'] = 'branch'\n",
    "\n",
    "# Categorize rows containing 'atm' as 'ATM'\n",
    "df_sorted.loc[df_sorted['name'].str.contains('atm', case=False, na=False), 'name'] = 'ATM'\n",
    "\n",
    "df_sorted.loc[df_sorted['name'].str.contains('Nesbitt|wealth|Dominion|Counsel', case=False, na=False), 'name'] = 'wealth'\n",
    "\n",
    "df_sorted.loc[df_sorted['name'].str.contains('mortgage', case=False, na=False), 'name'] = 'mortgage_specialist'\n",
    "\n",
    "df_sorted.loc[df_sorted['name'].str.contains('planner|Investment Specialist', case=False, na=False), 'name'] = 'financial_planner'\n",
    "\n",
    "df_sorted.loc[df_sorted['name'].str.contains('Financial Advisor', case=False, na=False), 'name'] = 'financial_advisor'\n",
    "\n",
    "df_sorted.loc[df_sorted['name'].str.contains('Business Advisor|Small Business', case=False, na=False), 'name'] = 'business_advisor'\n",
    "\n",
    "df_sorted.loc[df_sorted['name'].str.contains('Direct Investing', case=False, na=False), 'name'] = 'broker'\n",
    "\n",
    "df_sorted.loc[df_sorted['name'].str.contains('Mellon|World Markets', case=False, na=False), 'name'] = 'Investment Banking'\n",
    "\n",
    "df_sorted\n"
   ]
  },
  {
   "cell_type": "code",
   "execution_count": null,
   "metadata": {},
   "outputs": [],
   "source": [
    "# Create a new column for categories\n",
    "df_sorted['category'] = df_sorted['name']\n",
    "\n",
    "# Define known categories\n",
    "known_categories = ['branch', 'ATM', 'wealth', 'mortgage_specialist', 'financial_planner', 'financial_advisor', 'business_advisor','broker','Investment Banking']\n",
    "\n",
    "# Assign 'unknown' to rows not in known categories\n",
    "df_sorted.loc[~df_sorted['category'].isin(known_categories), 'category'] = 'unknown'\n",
    "\n",
    "# Now you can filter out the 'unknown' category to manually investigate\n",
    "subset_to_investigate = df_sorted[df_sorted['category'] == 'unknown']\n",
    "\n",
    "#print(subset_to_investigate)\n",
    "\n",
    "\n",
    "with pd.option_context('display.max_rows', None,\n",
    "                       'display.max_columns', None,\n",
    "                       'display.max_colwidth', 1000,  # or use a large number like 1000\n",
    "                       'display.width', 1000  # adjust as per your needs\n",
    "                       ):\n",
    "    print(subset_to_investigate)\n",
    "\n",
    "\n",
    "# Drop the rows that are in the subset_to_investigate from df_sorted\n",
    "df_sorted = df_sorted.drop(subset_to_investigate.index)\n",
    "df_sorted = df_sorted.drop(columns = \"category\")\n",
    "\n",
    "df_sorted"
   ]
  },
  {
   "cell_type": "code",
   "execution_count": 86,
   "metadata": {},
   "outputs": [],
   "source": [
    "df_sorted.to_csv(r'C:\\Users\\lgbra\\OneDrive\\Desktop\\VScode\\Urls.csv', index=False)"
   ]
  }
 ],
 "metadata": {
  "kernelspec": {
   "display_name": "Python 3",
   "language": "python",
   "name": "python3"
  },
  "language_info": {
   "codemirror_mode": {
    "name": "ipython",
    "version": 3
   },
   "file_extension": ".py",
   "mimetype": "text/x-python",
   "name": "python",
   "nbconvert_exporter": "python",
   "pygments_lexer": "ipython3",
   "version": "3.11.7"
  }
 },
 "nbformat": 4,
 "nbformat_minor": 2
}
